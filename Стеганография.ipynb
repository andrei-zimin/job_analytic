{
 "cells": [
  {
   "cell_type": "code",
   "execution_count": null,
   "id": "4fbdec3d-d7ea-4141-be3a-795de2a32bfd",
   "metadata": {},
   "outputs": [],
   "source": [
    "import cv2\n",
    "\n",
    "video_capture = cv2.VideoCapture('ваш_видеофайл.mp4')\n",
    "\n",
    "frame_count = 0\n",
    "\n",
    "# Чтение видео по кадрам\n",
    "while True:\n",
    "    ret, frame = video_capture.read()\n",
    "\n",
    "    if not ret:\n",
    "        break\n",
    "\n",
    "    filename = f'frame_{frame_count:04d}.jpg'  # Имя файла для кадра\n",
    "    cv2.imwrite(filename, frame)\n",
    "\n",
    "    frame_count += 1\n",
    "\n",
    "video_capture.release()\n",
    "\n",
    "print(f'Преобразовано {frame_count} кадров')\n"
   ]
  },
  {
   "cell_type": "code",
   "execution_count": null,
   "id": "69f22ebe-41e0-4761-a91e-68bc4256425d",
   "metadata": {},
   "outputs": [],
   "source": [
    "from PIL import Image\n",
    "\n",
    "def encode_lsb_with_markers(image_path, message, output_path):\n",
    "    image = Image.open(image_path)\n",
    "    width, height = image.size\n",
    "\n",
    "    binary_message = \"1010101010101111\" + ''.join(format(ord(char), '016b') for char in message) + \"0101010101010111\"\n",
    "\n",
    "    if len(binary_message) > width * height * 3:\n",
    "        print(\"Слишком длинное сообщение для данного изображения.\")\n",
    "        return\n",
    "\n",
    "    encoded_image = image.copy()\n",
    "    data_index = 0\n",
    "\n",
    "    for y in range(height):\n",
    "        for x in range(width):\n",
    "            pixel = list(image.getpixel((x, y)))\n",
    "            for color_channel in range(3):\n",
    "                if data_index < len(binary_message):\n",
    "                    pixel[color_channel] = int(bin(pixel[color_channel])[:-1] + binary_message[data_index], 2)\n",
    "                    data_index += 1\n",
    "            encoded_image.putpixel((x, y), tuple(pixel))\n",
    "\n",
    "    encoded_image.save(output_path)\n",
    "    print(\"Сообщение успешно закодировано и сохранено.\")"
   ]
  },
  {
   "cell_type": "code",
   "execution_count": null,
   "id": "1ea214a2-0ca9-409c-9805-842d496d4cd1",
   "metadata": {},
   "outputs": [],
   "source": [
    "def decode_lsb_with_markers(encoded_image_path):\n",
    "    encoded_image = Image.open(encoded_image_path)\n",
    "    width, height = encoded_image.size\n",
    "    binary_message = \"\"\n",
    "\n",
    "    for y in range(height):\n",
    "        for x in range(width):\n",
    "            pixel = encoded_image.getpixel((x, y))\n",
    "            for color_channel in range(3):\n",
    "                binary_message += bin(pixel[color_channel])[-1]\n",
    "\n",
    "    marker_start = \"1010101010101111\"\n",
    "    marker_end = \"0101010101010111\"\n",
    "    start_index = binary_message.find(marker_start)\n",
    "    end_index = binary_message.find(marker_end, start_index)\n",
    "\n",
    "    if start_index != -1 and end_index != -1:\n",
    "        binary_message = binary_message[start_index+len(marker_start):end_index]\n",
    "        decoded_message = ''.join(chr(int(binary_message[i:i+16], 2)) for i in range(0, len(binary_message), 16))\n",
    "        print(\"Скрытое сообщение:\", decoded_message)\n",
    "    else:\n",
    "        print(\"Маркеры не найдены.\")"
   ]
  },
  {
   "cell_type": "code",
   "execution_count": null,
   "id": "f74130ce-9129-4327-a88e-0abe5710b452",
   "metadata": {},
   "outputs": [],
   "source": [
    "image_path = \"input_image.png\"\n",
    "message = \"\"\"\n",
    "test text 12345 Hellj 7^5/* Текст ТЕСТtest text 12345 Hellj 7^5/* Текст ТЕСТtest text 12345 Hellj 7^5/* Текст ТЕСТtest text 12345 Hellj 7^5/* Текст ТЕСТtest text 12345 Hellj 7^5/* Текст ТЕСТtest text 12345 Hellj 7^5/* Текст ТЕСТtest text 12345 Hellj 7^5/* Текст ТЕСТtest text 12345 \n",
    "\n",
    "test text 12345 Hellj 7^5/* Текст ТЕСТtest text 12345 Hellj 7^5/* Текст ТЕСТtest text 12345 Hellj 7^5/* Текст ТЕСТtest text 12345 Hellj 7^5/* Текст ТЕСТtest text 12345 \n",
    "Hellj 7^5/345 Hellj 7^5/* Текст ТЕСТtest text 12345 Hellj 7^5/* Текст ТЕСТtest text 12345 Hellj 7^5/* Текст ТЕСТtest text 12345 \n",
    "Hellj 7^5/* Текст ТЕСТtest text 12345 Hellj 7^5/* Текст ТЕСТtest text 12345 Hellj 7^5/* Текст ТЕСТ\n",
    "test text 3\n",
    "\"\"\"\n",
    "encoded_image_path = \"encoded_image.png\"\n",
    "\n",
    "encode_lsb_with_markers(image_path, message, encoded_image_path)"
   ]
  },
  {
   "cell_type": "code",
   "execution_count": null,
   "id": "619fd805",
   "metadata": {},
   "outputs": [],
   "source": [
    "encoded_image_path = \"encoded_image.png\"\n",
    "decode_lsb_with_markers(encoded_image_path)"
   ]
  },
  {
   "cell_type": "code",
   "execution_count": null,
   "id": "97139f40-e3f7-44ac-92f5-5fab96347a17",
   "metadata": {},
   "outputs": [],
   "source": []
  }
 ],
 "metadata": {
  "kernelspec": {
   "display_name": "Python 3 (ipykernel)",
   "language": "python",
   "name": "python3"
  },
  "language_info": {
   "codemirror_mode": {
    "name": "ipython",
    "version": 3
   },
   "file_extension": ".py",
   "mimetype": "text/x-python",
   "name": "python",
   "nbconvert_exporter": "python",
   "pygments_lexer": "ipython3",
   "version": "3.8.4"
  }
 },
 "nbformat": 4,
 "nbformat_minor": 5
}
