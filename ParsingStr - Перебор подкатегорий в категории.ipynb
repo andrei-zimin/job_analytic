{
 "cells": [
  {
   "cell_type": "code",
   "execution_count": null,
   "id": "94c6569c-90cf-4b4f-b01b-0680da46c1e2",
   "metadata": {},
   "outputs": [],
   "source": [
    "# Перебор всех подкатегорий в одной (главной) категории и сохранение в файл\n",
    "from selenium import webdriver\n",
    "from bs4 import BeautifulSoup\n",
    "from urllib.parse import urljoin\n",
    "\n",
    "driver = webdriver.Chrome()\n",
    "\n",
    "def extract_links_from_divs(div_elements):\n",
    "    links = []\n",
    "    for div in div_elements:\n",
    "        a_tags = div.find_all(\"a\", href=True)\n",
    "        for a in a_tags:\n",
    "            # Преобразуем относительные URL-адреса в абсолютные\n",
    "            absolute_url = urljoin(\"https://megamarket.ru/\", a[\"href\"])\n",
    "            links.append(absolute_url)\n",
    "    return links\n",
    "\n",
    "def check_divs_on_page(url):\n",
    "    driver.get(url)\n",
    "    driver.implicitly_wait(10)\n",
    "    page_source = driver.page_source\n",
    "    soup = BeautifulSoup(page_source, \"html.parser\")\n",
    "    divs = soup.find_all(\"div\", class_=[\"experiment-wrapper catalog-department__categories\", \"cut-block__text-wrapper\"])\n",
    "    return not divs\n",
    "\n",
    "def recursive_crawl(url):\n",
    "    driver.get(url)\n",
    "    driver.implicitly_wait(10)\n",
    "    page_source = driver.page_source\n",
    "    soup = BeautifulSoup(page_source, \"html.parser\")\n",
    "    divs = soup.find_all(\"div\", class_=[\"experiment-wrapper catalog-department__categories\", \"cut-block__text-wrapper\"])\n",
    "    if not divs:\n",
    "        print(f\"Сохранено: {url}\")\n",
    "        with open(\"saved_links_stroitelstvo_i_remont.txt\", \"a\") as file:\n",
    "            file.write(url + \"\\n\")\n",
    "    links = extract_links_from_divs(divs)\n",
    "    for link in links:\n",
    "        recursive_crawl(link)\n",
    "\n",
    "starting_url = \"https://megamarket.ru/catalog/stroitelstvo-i-remont/\"\n",
    "recursive_crawl(starting_url)\n",
    "\n",
    "driver.quit()\n"
   ]
  },
  {
   "cell_type": "code",
   "execution_count": null,
   "id": "7272debf-7781-4aa9-ae57-1117f30e8886",
   "metadata": {},
   "outputs": [],
   "source": []
  }
 ],
 "metadata": {
  "kernelspec": {
   "display_name": "Python 3 (ipykernel)",
   "language": "python",
   "name": "python3"
  },
  "language_info": {
   "codemirror_mode": {
    "name": "ipython",
    "version": 3
   },
   "file_extension": ".py",
   "mimetype": "text/x-python",
   "name": "python",
   "nbconvert_exporter": "python",
   "pygments_lexer": "ipython3",
   "version": "3.8.4"
  }
 },
 "nbformat": 4,
 "nbformat_minor": 5
}
