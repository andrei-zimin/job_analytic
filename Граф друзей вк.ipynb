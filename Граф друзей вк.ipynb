{
 "cells": [
  {
   "cell_type": "code",
   "execution_count": null,
   "id": "52386db2",
   "metadata": {},
   "outputs": [],
   "source": [
    "import vk_api\n",
    "import networkx as nx\n",
    "import matplotlib.pyplot as plt\n",
    "from tqdm import tqdm\n",
    "\n",
    "# Ваш токен доступа\n",
    "ACCESS_TOKEN = 'vk1.a.fIyBnGPlHuga41SYQlhoNWOvASxz2bJLJl_F'\n",
    "\n",
    "# Создание экземпляра VK API\n",
    "vk_session = vk_api.VkApi(token=ACCESS_TOKEN)\n",
    "vk = vk_session.get_api()\n",
    "\n",
    "# Создание пустого графа\n",
    "G = nx.Graph()\n",
    "\n",
    "# ID стартового пользователя\n",
    "starting_user_id = '5487958'  # Замените на свой ID 233516504\n",
    "\n",
    "# Максимальная глубина обхода\n",
    "max_depth = 2\n",
    "\n",
    "# Словарь для отслеживания цветов для каждого друга\n",
    "friend_colors = {starting_user_id: 0}  # Добавляем стартового пользователя\n",
    "\n",
    "def recursive_friends_search(user_id, depth, owner_id=None):\n",
    "    if depth <= 0:\n",
    "        return\n",
    "\n",
    "    try:\n",
    "        # Получение списка друзей пользователя\n",
    "        friends = vk.friends.get(user_id=user_id, fields='id', count=1000)['items']\n",
    "\n",
    "        for friend in tqdm(friends, desc=\"Обработка друзей\"):\n",
    "            friend_id = friend['id']\n",
    "            G.add_edge(user_id, friend_id)\n",
    "            \n",
    "            # Определение цвета друга в зависимости от владельца\n",
    "            if friend_id not in friend_colors:\n",
    "                friend_colors[friend_id] = len(friend_colors)\n",
    "            \n",
    "            # Рекурсивный обход друзей друга\n",
    "            recursive_friends_search(friend_id, depth - 1, friend_id)\n",
    "    except vk_api.exceptions.VkApiError as e:\n",
    "        print(\"Ошибка:\", e)\n",
    "\n",
    "# Запуск рекурсивного обхода для стартового пользователя\n",
    "recursive_friends_search(starting_user_id, max_depth)\n",
    "\n",
    "# Выделение компонент связности (кластеризация)\n",
    "components = list(nx.connected_components(G))\n",
    "\n",
    "# Визуализация графа с позиционированием и цветами\n",
    "plt.figure(figsize=(40, 20))\n",
    "pos = nx.spring_layout(G, seed=10, k=0.09)\n",
    "for i, component in enumerate(components):\n",
    "    subgraph = G.subgraph(component)\n",
    "    node_colors = [friend_colors[node] for node in subgraph.nodes()]\n",
    "    nx.draw_networkx_nodes(subgraph, pos, node_color=node_colors, cmap=plt.get_cmap('tab20'), node_size=100)\n",
    "    nx.draw_networkx_edges(subgraph, pos)\n",
    "plt.title(\"Граф друзей и друзей друзей\")\n",
    "plt.show()"
   ]
  },
  {
   "cell_type": "code",
   "execution_count": null,
   "id": "2e894c89",
   "metadata": {},
   "outputs": [],
   "source": [
    "# Создание подграфа для друзей первого уровня\n",
    "first_level_friends = list(G.neighbors(starting_user_id))\n",
    "subgraph = G.subgraph([starting_user_id] + first_level_friends)\n",
    "\n",
    "# Визуализация подграфа для друзей первого уровня\n",
    "plt.figure(figsize=(40, 20))\n",
    "pos = nx.spring_layout(subgraph, seed=10, k=0.09)\n",
    "nx.draw(subgraph, pos, node_color='b', node_size=200, with_labels=False)\n",
    "plt.title(\"Подграф друзей первого уровня для определенного пользователя\")\n",
    "plt.show()"
   ]
  },
  {
   "cell_type": "code",
   "execution_count": null,
   "id": "65cad623",
   "metadata": {},
   "outputs": [],
   "source": [
    "# Вывод количества вершин в подграфе\n",
    "num_nodes = subgraph.number_of_nodes()\n",
    "print(\"Количество вершин в подграфе:\", num_nodes)"
   ]
  },
  {
   "cell_type": "code",
   "execution_count": null,
   "id": "410142a8",
   "metadata": {},
   "outputs": [],
   "source": []
  }
 ],
 "metadata": {
  "kernelspec": {
   "display_name": "Python 3 (ipykernel)",
   "language": "python",
   "name": "python3"
  },
  "language_info": {
   "codemirror_mode": {
    "name": "ipython",
    "version": 3
   },
   "file_extension": ".py",
   "mimetype": "text/x-python",
   "name": "python",
   "nbconvert_exporter": "python",
   "pygments_lexer": "ipython3",
   "version": "3.8.4"
  }
 },
 "nbformat": 4,
 "nbformat_minor": 5
}
